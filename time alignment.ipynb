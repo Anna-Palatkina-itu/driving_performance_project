{
 "cells": [
  {
   "cell_type": "code",
   "execution_count": null,
   "id": "e55fbf92",
   "metadata": {},
   "outputs": [],
   "source": []
  },
  {
   "cell_type": "code",
   "execution_count": 1,
   "id": "003a9991",
   "metadata": {},
   "outputs": [],
   "source": [
    "import os\n",
    "import pandas as pd\n",
    "from datetime import timedelta"
   ]
  },
  {
   "cell_type": "code",
   "execution_count": 2,
   "id": "20f4d19e",
   "metadata": {},
   "outputs": [],
   "source": [
    "# File paths\n",
    "main_data = \"C:/Data/sensors_performance/sensors_performance/\"\n",
    "eye_tracking_3d_state_data = \"C:/Data/Eye tracking data_Main data collection/Main Data Collection/\"\n",
    "blinks_data_path = \"C:/Data/Eye tracking data_Main data collection/Main Data Collection/\"\n",
    "\n",
    "# Prticipant code \n",
    "code = \"U6O5V2T9\""
   ]
  },
  {
   "cell_type": "markdown",
   "id": "05904a29",
   "metadata": {},
   "source": [
    "Load and Align Main Data"
   ]
  },
  {
   "cell_type": "code",
   "execution_count": 3,
   "id": "3a2c47e3",
   "metadata": {},
   "outputs": [],
   "source": [
    "# Load main data file\n",
    "main_df = pd.read_csv(f'{main_data}{code}.csv', comment='#', low_memory=False)\n",
    "\n",
    "# Extract recording timestamp from the main data file\n",
    "with open(f'{main_data}{code}.csv', 'r') as f:\n",
    "    for line in f:\n",
    "        if line.startswith('#Recording time'):\n",
    "            timestamp_str = line.replace('#Recording time,Date: ', '').split(',Unix time:')[0]\n",
    "            break\n",
    "\n",
    "# Parse the timestamp\n",
    "try:\n",
    "    ts = pd.to_datetime(timestamp_str, format=\"%d.%m.%Y,Time: %H:%M:%S.%f +02:00\")\n",
    "except ValueError:\n",
    "    ts = pd.to_datetime(timestamp_str, format=\"%m/%d/%Y,Time: %H:%M:%S.%f +02:00\")\n",
    "\n",
    "# Adjust timestamp to UTC and convert to nanoseconds\n",
    "ts = ts - timedelta(hours=2)\n",
    "nanoseconds = int(ts.value)"
   ]
  },
  {
   "cell_type": "markdown",
   "id": "abdc1c0d",
   "metadata": {},
   "source": [
    "Process 3D Eye States Data (including Pupil Diameter (PD))"
   ]
  },
  {
   "cell_type": "code",
   "execution_count": 4,
   "id": "6ea19f5c",
   "metadata": {},
   "outputs": [
    {
     "name": "stdout",
     "output_type": "stream",
     "text": [
      "Aligned 3D eye states data saved to: C:/Data/Eye tracking data_Main data collection/Main Data Collection/aligned_3d_eye_states_U6O5V2T9.csv\n"
     ]
    }
   ],
   "source": [
    "# Load and align 3D eye states data\n",
    "state_data = pd.read_csv(f'{eye_tracking_3d_state_data}3d_eye_states_{code}.csv', comment='#')\n",
    "# Convert to milliseconds\n",
    "state_data['timestamp [ns]'] = state_data['timestamp [ns]'].apply(lambda x: (x - nanoseconds) / 1e6)  \n",
    "state_data.rename(columns={'timestamp [ns]': 'Timestamp'}, inplace=True)\n",
    "\n",
    "# Save aligned 3D eye states data\n",
    "output_file_3d = f'{eye_tracking_3d_state_data}aligned_3d_eye_states_{code}.csv'\n",
    "state_data.to_csv(output_file_3d, index=False)\n",
    "print(f\"Aligned 3D eye states data saved to: {output_file_3d}\")\n",
    "\n",
    "# Merge 3D eye states with main data\n",
    "merged_data = pd.merge(main_df, state_data, on='Timestamp', how='outer')"
   ]
  },
  {
   "cell_type": "markdown",
   "id": "270f63ee",
   "metadata": {},
   "source": [
    "Process Blink Data (including start/end and durarion time of blinks)"
   ]
  },
  {
   "cell_type": "code",
   "execution_count": 6,
   "id": "1ae5d3aa",
   "metadata": {},
   "outputs": [
    {
     "name": "stdout",
     "output_type": "stream",
     "text": [
      "Aligned blinks data saved to: C:/Data/Eye tracking data_Main data collection/Main Data Collection/aligned_blinks_U6O5V2T9.csv\n"
     ]
    }
   ],
   "source": [
    "# Load and align blink data\n",
    "blinks_data = pd.read_csv(f'{blinks_data_path}blinks_{code}.csv', comment='#')\n",
    "\n",
    "# Calculate the midpoint timestamp for each blink\n",
    "blinks_data['timestamp [ns]'] = (blinks_data['start timestamp [ns]'] + blinks_data['end timestamp [ns]']) // 2\n",
    "\n",
    "# Adjust timestamps to milliseconds\n",
    "blinks_data['Timestamp'] = (blinks_data['timestamp [ns]'] - nanoseconds) / 1e6\n",
    "blinks_data['start timestamp [ms]'] = (blinks_data['start timestamp [ns]'] - nanoseconds) / 1e6\n",
    "blinks_data['end timestamp [ms]'] = (blinks_data['end timestamp [ns]'] - nanoseconds) / 1e6\n",
    "\n",
    "# Keep relevant columns\n",
    "blinks_data = blinks_data[['Timestamp', 'start timestamp [ms]', 'end timestamp [ms]', 'duration [ms]']]\n",
    "\n",
    "# Save aligned blink data\n",
    "output_file_blinks = f'{blinks_data_path}aligned_blinks_{code}.csv'\n",
    "blinks_data.to_csv(output_file_blinks, index=False)\n",
    "print(f\"Aligned blinks data saved to: {output_file_blinks}\")\n"
   ]
  },
  {
   "cell_type": "markdown",
   "id": "bfe70724",
   "metadata": {},
   "source": [
    "Merge All Data and Save Final Dataset"
   ]
  },
  {
   "cell_type": "code",
   "execution_count": 7,
   "id": "1295c87c",
   "metadata": {},
   "outputs": [
    {
     "name": "stdout",
     "output_type": "stream",
     "text": [
      "Final merged data saved to: C:/Data/merged_data_U6O5V2T9.csv\n"
     ]
    }
   ],
   "source": [
    "# Merge blink data with the existing merged dataset\n",
    "merged_data = pd.merge(merged_data, blinks_data, on='Timestamp', how='outer')\n",
    "\n",
    "# Sort data by timestamp\n",
    "merged_data = merged_data.sort_values('Timestamp')\n",
    "\n",
    "# Save the final merged dataset\n",
    "final_output_file = f\"C:/Data/merged_data_{code}.csv\"\n",
    "\n",
    "# Check if the file exists and delete it if necessary (for the test phase)\n",
    "if os.path.exists(final_output_file):\n",
    "    os.remove(final_output_file)\n",
    "\n",
    "merged_data.to_csv(final_output_file, index=False)\n",
    "print(f\"Final merged data saved to: {final_output_file}\")\n"
   ]
  }
 ],
 "metadata": {
  "kernelspec": {
   "display_name": "eyeTracking",
   "language": "python",
   "name": "python3"
  },
  "language_info": {
   "codemirror_mode": {
    "name": "ipython",
    "version": 3
   },
   "file_extension": ".py",
   "mimetype": "text/x-python",
   "name": "python",
   "nbconvert_exporter": "python",
   "pygments_lexer": "ipython3",
   "version": "3.12.7"
  }
 },
 "nbformat": 4,
 "nbformat_minor": 5
}
