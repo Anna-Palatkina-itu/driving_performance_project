{
 "cells": [
  {
   "cell_type": "markdown",
   "id": "7666b707",
   "metadata": {},
   "source": [
    "https://github.com/theo-lq/Xi-Correlation/tree/main"
   ]
  },
  {
   "cell_type": "markdown",
   "id": "2d20d7c7",
   "metadata": {},
   "source": []
  }
 ],
 "metadata": {
  "language_info": {
   "name": "python"
  }
 },
 "nbformat": 4,
 "nbformat_minor": 5
}
